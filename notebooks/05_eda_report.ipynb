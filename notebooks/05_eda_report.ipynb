{
 "cells": [
  {
   "cell_type": "code",
   "execution_count": 12,
   "metadata": {},
   "outputs": [
    {
     "name": "stdout",
     "output_type": "stream",
     "text": [
      "Collecting ydata-profiling\n",
      "  Downloading ydata_profiling-4.12.2-py2.py3-none-any.whl.metadata (20 kB)\n",
      "Requirement already satisfied: scipy<1.16,>=1.4.1 in /Users/abdul/anaconda3/envs/fake-news-detection/lib/python3.12/site-packages (from ydata-profiling) (1.15.1)\n",
      "Requirement already satisfied: pandas!=1.4.0,<3,>1.1 in /Users/abdul/anaconda3/envs/fake-news-detection/lib/python3.12/site-packages (from ydata-profiling) (2.2.3)\n",
      "Requirement already satisfied: matplotlib>=3.5 in /Users/abdul/anaconda3/envs/fake-news-detection/lib/python3.12/site-packages (from ydata-profiling) (3.10.0)\n",
      "Collecting pydantic>=2 (from ydata-profiling)\n",
      "  Downloading pydantic-2.10.6-py3-none-any.whl.metadata (30 kB)\n",
      "Requirement already satisfied: PyYAML<6.1,>=5.0.0 in /Users/abdul/anaconda3/envs/fake-news-detection/lib/python3.12/site-packages (from ydata-profiling) (6.0.2)\n",
      "Requirement already satisfied: jinja2<3.2,>=2.11.1 in /Users/abdul/anaconda3/envs/fake-news-detection/lib/python3.12/site-packages (from ydata-profiling) (3.1.5)\n",
      "Collecting visions<0.8.0,>=0.7.5 (from visions[type_image_path]<0.8.0,>=0.7.5->ydata-profiling)\n",
      "  Downloading visions-0.7.6-py3-none-any.whl.metadata (11 kB)\n",
      "Requirement already satisfied: numpy<2.2,>=1.16.0 in /Users/abdul/anaconda3/envs/fake-news-detection/lib/python3.12/site-packages (from ydata-profiling) (1.26.4)\n",
      "Requirement already satisfied: htmlmin==0.1.12 in /Users/abdul/anaconda3/envs/fake-news-detection/lib/python3.12/site-packages (from ydata-profiling) (0.1.12)\n",
      "Requirement already satisfied: phik<0.13,>=0.11.1 in /Users/abdul/anaconda3/envs/fake-news-detection/lib/python3.12/site-packages (from ydata-profiling) (0.12.3)\n",
      "Requirement already satisfied: requests<3,>=2.24.0 in /Users/abdul/anaconda3/envs/fake-news-detection/lib/python3.12/site-packages (from ydata-profiling) (2.32.3)\n",
      "Requirement already satisfied: tqdm<5,>=4.48.2 in /Users/abdul/anaconda3/envs/fake-news-detection/lib/python3.12/site-packages (from ydata-profiling) (4.67.1)\n",
      "Requirement already satisfied: seaborn<0.14,>=0.10.1 in /Users/abdul/anaconda3/envs/fake-news-detection/lib/python3.12/site-packages (from ydata-profiling) (0.13.2)\n",
      "Requirement already satisfied: multimethod<2,>=1.4 in /Users/abdul/anaconda3/envs/fake-news-detection/lib/python3.12/site-packages (from ydata-profiling) (1.4)\n",
      "Requirement already satisfied: statsmodels<1,>=0.13.2 in /Users/abdul/anaconda3/envs/fake-news-detection/lib/python3.12/site-packages (from ydata-profiling) (0.14.4)\n",
      "Collecting typeguard<5,>=3 (from ydata-profiling)\n",
      "  Downloading typeguard-4.4.1-py3-none-any.whl.metadata (3.7 kB)\n",
      "Requirement already satisfied: imagehash==4.3.1 in /Users/abdul/anaconda3/envs/fake-news-detection/lib/python3.12/site-packages (from ydata-profiling) (4.3.1)\n",
      "Requirement already satisfied: wordcloud>=1.9.3 in /Users/abdul/anaconda3/envs/fake-news-detection/lib/python3.12/site-packages (from ydata-profiling) (1.9.3)\n",
      "Collecting dacite>=1.8 (from ydata-profiling)\n",
      "  Downloading dacite-1.8.1-py3-none-any.whl.metadata (15 kB)\n",
      "Requirement already satisfied: pillow in /Users/abdul/anaconda3/envs/fake-news-detection/lib/python3.12/site-packages (from imagehash==4.3.1->ydata-profiling) (11.0.0)\n",
      "Requirement already satisfied: PyWavelets in /Users/abdul/anaconda3/envs/fake-news-detection/lib/python3.12/site-packages (from imagehash==4.3.1->ydata-profiling) (1.8.0)\n",
      "Requirement already satisfied: MarkupSafe>=2.0 in /Users/abdul/anaconda3/envs/fake-news-detection/lib/python3.12/site-packages (from jinja2<3.2,>=2.11.1->ydata-profiling) (2.1.3)\n",
      "Requirement already satisfied: contourpy>=1.0.1 in /Users/abdul/anaconda3/envs/fake-news-detection/lib/python3.12/site-packages (from matplotlib>=3.5->ydata-profiling) (1.3.1)\n",
      "Requirement already satisfied: cycler>=0.10 in /Users/abdul/anaconda3/envs/fake-news-detection/lib/python3.12/site-packages (from matplotlib>=3.5->ydata-profiling) (0.12.1)\n",
      "Requirement already satisfied: fonttools>=4.22.0 in /Users/abdul/anaconda3/envs/fake-news-detection/lib/python3.12/site-packages (from matplotlib>=3.5->ydata-profiling) (4.25.0)\n",
      "Requirement already satisfied: kiwisolver>=1.3.1 in /Users/abdul/anaconda3/envs/fake-news-detection/lib/python3.12/site-packages (from matplotlib>=3.5->ydata-profiling) (1.4.8)\n",
      "Requirement already satisfied: packaging>=20.0 in /Users/abdul/anaconda3/envs/fake-news-detection/lib/python3.12/site-packages (from matplotlib>=3.5->ydata-profiling) (24.2)\n",
      "Requirement already satisfied: pyparsing>=2.3.1 in /Users/abdul/anaconda3/envs/fake-news-detection/lib/python3.12/site-packages (from matplotlib>=3.5->ydata-profiling) (3.2.1)\n",
      "Requirement already satisfied: python-dateutil>=2.7 in /Users/abdul/anaconda3/envs/fake-news-detection/lib/python3.12/site-packages (from matplotlib>=3.5->ydata-profiling) (2.9.0.post0)\n",
      "Requirement already satisfied: pytz>=2020.1 in /Users/abdul/anaconda3/envs/fake-news-detection/lib/python3.12/site-packages (from pandas!=1.4.0,<3,>1.1->ydata-profiling) (2024.2)\n",
      "Requirement already satisfied: tzdata>=2022.7 in /Users/abdul/anaconda3/envs/fake-news-detection/lib/python3.12/site-packages (from pandas!=1.4.0,<3,>1.1->ydata-profiling) (2025.1)\n",
      "Requirement already satisfied: joblib>=0.14.1 in /Users/abdul/anaconda3/envs/fake-news-detection/lib/python3.12/site-packages (from phik<0.13,>=0.11.1->ydata-profiling) (1.4.2)\n",
      "Collecting annotated-types>=0.6.0 (from pydantic>=2->ydata-profiling)\n",
      "  Downloading annotated_types-0.7.0-py3-none-any.whl.metadata (15 kB)\n",
      "Collecting pydantic-core==2.27.2 (from pydantic>=2->ydata-profiling)\n",
      "  Downloading pydantic_core-2.27.2-cp312-cp312-macosx_11_0_arm64.whl.metadata (6.6 kB)\n",
      "Requirement already satisfied: typing-extensions>=4.12.2 in /Users/abdul/anaconda3/envs/fake-news-detection/lib/python3.12/site-packages (from pydantic>=2->ydata-profiling) (4.12.2)\n",
      "Requirement already satisfied: charset_normalizer<4,>=2 in /Users/abdul/anaconda3/envs/fake-news-detection/lib/python3.12/site-packages (from requests<3,>=2.24.0->ydata-profiling) (3.4.1)\n",
      "Requirement already satisfied: idna<4,>=2.5 in /Users/abdul/anaconda3/envs/fake-news-detection/lib/python3.12/site-packages (from requests<3,>=2.24.0->ydata-profiling) (3.10)\n",
      "Requirement already satisfied: urllib3<3,>=1.21.1 in /Users/abdul/anaconda3/envs/fake-news-detection/lib/python3.12/site-packages (from requests<3,>=2.24.0->ydata-profiling) (2.0.3)\n",
      "Requirement already satisfied: certifi>=2017.4.17 in /Users/abdul/anaconda3/envs/fake-news-detection/lib/python3.12/site-packages (from requests<3,>=2.24.0->ydata-profiling) (2024.12.14)\n",
      "Requirement already satisfied: patsy>=0.5.6 in /Users/abdul/anaconda3/envs/fake-news-detection/lib/python3.12/site-packages (from statsmodels<1,>=0.13.2->ydata-profiling) (1.0.1)\n",
      "Requirement already satisfied: attrs>=19.3.0 in /Users/abdul/anaconda3/envs/fake-news-detection/lib/python3.12/site-packages (from visions<0.8.0,>=0.7.5->visions[type_image_path]<0.8.0,>=0.7.5->ydata-profiling) (25.1.0)\n",
      "Requirement already satisfied: networkx>=2.4 in /Users/abdul/anaconda3/envs/fake-news-detection/lib/python3.12/site-packages (from visions<0.8.0,>=0.7.5->visions[type_image_path]<0.8.0,>=0.7.5->ydata-profiling) (3.4.2)\n",
      "Requirement already satisfied: six>=1.5 in /Users/abdul/anaconda3/envs/fake-news-detection/lib/python3.12/site-packages (from python-dateutil>=2.7->matplotlib>=3.5->ydata-profiling) (1.17.0)\n",
      "Downloading ydata_profiling-4.12.2-py2.py3-none-any.whl (390 kB)\n",
      "Downloading dacite-1.8.1-py3-none-any.whl (14 kB)\n",
      "Downloading pydantic-2.10.6-py3-none-any.whl (431 kB)\n",
      "Downloading pydantic_core-2.27.2-cp312-cp312-macosx_11_0_arm64.whl (1.8 MB)\n",
      "\u001b[2K   \u001b[90m━━━━━━━━━━━━━━━━━━━━━━━━━━━━━━━━━━━━━━━━\u001b[0m \u001b[32m1.8/1.8 MB\u001b[0m \u001b[31m7.1 MB/s\u001b[0m eta \u001b[36m0:00:00\u001b[0mta \u001b[36m0:00:01\u001b[0m\n",
      "\u001b[?25hDownloading typeguard-4.4.1-py3-none-any.whl (35 kB)\n",
      "Downloading visions-0.7.6-py3-none-any.whl (104 kB)\n",
      "Downloading annotated_types-0.7.0-py3-none-any.whl (13 kB)\n",
      "Installing collected packages: typeguard, pydantic-core, dacite, annotated-types, pydantic, visions, ydata-profiling\n",
      "  Attempting uninstall: pydantic\n",
      "    Found existing installation: pydantic 1.10.19\n",
      "    Uninstalling pydantic-1.10.19:\n",
      "      Successfully uninstalled pydantic-1.10.19\n",
      "  Attempting uninstall: visions\n",
      "    Found existing installation: visions 0.7.1\n",
      "    Uninstalling visions-0.7.1:\n",
      "      Successfully uninstalled visions-0.7.1\n",
      "\u001b[31mERROR: pip's dependency resolver does not currently take into account all the packages that are installed. This behaviour is the source of the following dependency conflicts.\n",
      "pandas-profiling 3.0.0 requires visions[type_image_path]==0.7.1, but you have visions 0.7.6 which is incompatible.\u001b[0m\u001b[31m\n",
      "\u001b[0mSuccessfully installed annotated-types-0.7.0 dacite-1.8.1 pydantic-2.10.6 pydantic-core-2.27.2 typeguard-4.4.1 visions-0.7.6 ydata-profiling-4.12.2\n",
      "Note: you may need to restart the kernel to use updated packages.\n"
     ]
    }
   ],
   "source": [
    "pip install ydata-profiling\n"
   ]
  },
  {
   "cell_type": "code",
   "execution_count": 13,
   "metadata": {},
   "outputs": [
    {
     "name": "stderr",
     "output_type": "stream",
     "text": [
      "/var/folders/gt/8jbvx78d5011fd40jzlk7w2r0000gn/T/ipykernel_50428/3650924699.py:43: FutureWarning: \n",
      "\n",
      "Passing `palette` without assigning `hue` is deprecated and will be removed in v0.14.0. Assign the `x` variable to `hue` and set `legend=False` for the same effect.\n",
      "\n",
      "  sns.countplot(x='label', data=df, palette='viridis')\n"
     ]
    },
    {
     "data": {
      "application/vnd.jupyter.widget-view+json": {
       "model_id": "99841a0b83f0435cbc2a707de872feae",
       "version_major": 2,
       "version_minor": 0
      },
      "text/plain": [
       "Summarize dataset:   0%|          | 0/5 [00:00<?, ?it/s]"
      ]
     },
     "metadata": {},
     "output_type": "display_data"
    },
    {
     "data": {
      "application/vnd.jupyter.widget-view+json": {
       "model_id": "a83bbe0daf1c48e48b8431e978710cb7",
       "version_major": 2,
       "version_minor": 0
      },
      "text/plain": [
       "Generate report structure:   0%|          | 0/1 [00:00<?, ?it/s]"
      ]
     },
     "metadata": {},
     "output_type": "display_data"
    },
    {
     "data": {
      "application/vnd.jupyter.widget-view+json": {
       "model_id": "092c0e06d5a9497d867109845e08d8d9",
       "version_major": 2,
       "version_minor": 0
      },
      "text/plain": [
       "Render HTML:   0%|          | 0/1 [00:00<?, ?it/s]"
      ]
     },
     "metadata": {},
     "output_type": "display_data"
    },
    {
     "data": {
      "application/vnd.jupyter.widget-view+json": {
       "model_id": "9f2218fdc6564d7284576683e0515ff0",
       "version_major": 2,
       "version_minor": 0
      },
      "text/plain": [
       "Export report to file:   0%|          | 0/1 [00:00<?, ?it/s]"
      ]
     },
     "metadata": {},
     "output_type": "display_data"
    },
    {
     "name": "stdout",
     "output_type": "stream",
     "text": [
      "EDA Report saved as 'eda_report.docx'.\n"
     ]
    }
   ],
   "source": [
    "from docx import Document\n",
    "import pandas as pd\n",
    "import seaborn as sns\n",
    "import matplotlib.pyplot as plt\n",
    "from io import BytesIO\n",
    "from ydata_profiling import ProfileReport\n",
    "\n",
    "# Load the data\n",
    "df = pd.read_csv('../data/processed/merged_news.csv')\n",
    "\n",
    "# Create a Document\n",
    "doc = Document()\n",
    "\n",
    "# Add Title\n",
    "doc.add_heading('Exploratory Data Analysis (EDA) Report - Fake News Detection', 0)\n",
    "\n",
    "# Add Introduction\n",
    "doc.add_paragraph(\n",
    "    \"This is an exploratory data analysis (EDA) report for the Fake News Detection dataset. \"\n",
    "    \"The dataset contains news articles labeled as either fake (0) or real (1). \"\n",
    "    \"We aim to understand the distribution, relationships, and characteristics of the data.\"\n",
    ")\n",
    "\n",
    "# Basic Information about the Data\n",
    "doc.add_heading('1. Basic Information', level=1)\n",
    "\n",
    "doc.add_paragraph(f\"Number of Rows: {df.shape[0]}\")\n",
    "doc.add_paragraph(f\"Number of Columns: {df.shape[1]}\")\n",
    "\n",
    "# Add column names and types\n",
    "doc.add_paragraph(f\"Column Names: {', '.join(df.columns)}\")\n",
    "doc.add_paragraph(f\"Data Types:\\n{df.dtypes}\")\n",
    "\n",
    "# Basic Statistical Information\n",
    "doc.add_heading('2. Descriptive Statistics', level=1)\n",
    "doc.add_paragraph(str(df.describe()))\n",
    "\n",
    "# Visualizations\n",
    "doc.add_heading('3. Visualizations', level=1)\n",
    "\n",
    "# Distribution of Labels\n",
    "plt.figure(figsize=(6, 4))\n",
    "sns.countplot(x='label', data=df, palette='viridis')\n",
    "plt.title('Distribution of Real vs Fake News')\n",
    "plt.tight_layout()\n",
    "\n",
    "# Save the plot to a BytesIO object and add it to the Word document\n",
    "img_stream = BytesIO()\n",
    "plt.savefig(img_stream, format='png')\n",
    "img_stream.seek(0)\n",
    "doc.add_paragraph(\"Figure 1: Distribution of Real vs Fake News\")\n",
    "doc.add_picture(img_stream)\n",
    "plt.close()\n",
    "\n",
    "# Add a section for the profiling report (optional)\n",
    "doc.add_heading('4. Profiling Report', level=1)\n",
    "\n",
    "# Generate Profiling Report (Optional)\n",
    "profile = ProfileReport(df, title=\"EDA Report - Fake News Detection\", explorative=True)\n",
    "profile.to_file('../reports/eda_report.html')  # Save as HTML\n",
    "\n",
    "# Add reference to the profiling report\n",
    "doc.add_paragraph(\"For more detailed insights, please refer to the automated profiling report: 'eda_report.html'.\")\n",
    "\n",
    "# Save the Document\n",
    "doc.save('../reports/eda_report.docx')\n",
    "\n",
    "print(\"EDA Report saved as 'eda_report.docx'.\")\n"
   ]
  }
 ],
 "metadata": {
  "kernelspec": {
   "display_name": "fake-news-detection",
   "language": "python",
   "name": "python3"
  },
  "language_info": {
   "codemirror_mode": {
    "name": "ipython",
    "version": 3
   },
   "file_extension": ".py",
   "mimetype": "text/x-python",
   "name": "python",
   "nbconvert_exporter": "python",
   "pygments_lexer": "ipython3",
   "version": "3.12.8"
  }
 },
 "nbformat": 4,
 "nbformat_minor": 2
}
