{
 "cells": [
  {
   "cell_type": "code",
   "execution_count": 1,
   "metadata": {},
   "outputs": [
    {
     "name": "stdout",
     "output_type": "stream",
     "text": [
      "<class 'pandas.core.frame.DataFrame'>\n",
      "RangeIndex: 44898 entries, 0 to 44897\n",
      "Data columns (total 6 columns):\n",
      " #   Column        Non-Null Count  Dtype \n",
      "---  ------        --------------  ----- \n",
      " 0   title         44898 non-null  object\n",
      " 1   text          44898 non-null  object\n",
      " 2   subject       44898 non-null  object\n",
      " 3   date          44898 non-null  object\n",
      " 4   label         44898 non-null  int64 \n",
      " 5   cleaned_text  44183 non-null  object\n",
      "dtypes: int64(1), object(5)\n",
      "memory usage: 2.1+ MB\n",
      "None\n",
      "                                               title  \\\n",
      "0   Donald Trump Sends Out Embarrassing New Year’...   \n",
      "1   Drunk Bragging Trump Staffer Started Russian ...   \n",
      "2   Sheriff David Clarke Becomes An Internet Joke...   \n",
      "3   Trump Is So Obsessed He Even Has Obama’s Name...   \n",
      "4   Pope Francis Just Called Out Donald Trump Dur...   \n",
      "\n",
      "                                                text subject  \\\n",
      "0  Donald Trump just couldn t wish all Americans ...    News   \n",
      "1  House Intelligence Committee Chairman Devin Nu...    News   \n",
      "2  On Friday, it was revealed that former Milwauk...    News   \n",
      "3  On Christmas day, Donald Trump announced that ...    News   \n",
      "4  Pope Francis used his annual Christmas Day mes...    News   \n",
      "\n",
      "                date  label                                       cleaned_text  \n",
      "0  December 31, 2017      0  donald trump just couldn wish all americans ha...  \n",
      "1  December 31, 2017      0  house intelligence committee chairman devin nu...  \n",
      "2  December 30, 2017      0  friday revealed that former milwaukee sheriff ...  \n",
      "3  December 29, 2017      0  christmas day donald trump announced that woul...  \n",
      "4  December 25, 2017      0  pope francis used his annual christmas day mes...  \n"
     ]
    }
   ],
   "source": [
    "import pandas as pd\n",
    "\n",
    "# Load the cleaned data\n",
    "df = pd.read_csv('../data/processed/cleaned_news.csv')\n",
    "\n",
    "# Display basic information\n",
    "print(df.info())\n",
    "print(df.head())\n"
   ]
  },
  {
   "cell_type": "code",
   "execution_count": 2,
   "metadata": {},
   "outputs": [
    {
     "name": "stderr",
     "output_type": "stream",
     "text": [
      "/var/folders/gt/8jbvx78d5011fd40jzlk7w2r0000gn/T/ipykernel_28232/4102241954.py:1: FutureWarning: A value is trying to be set on a copy of a DataFrame or Series through chained assignment using an inplace method.\n",
      "The behavior will change in pandas 3.0. This inplace method will never work because the intermediate object on which we are setting values always behaves as a copy.\n",
      "\n",
      "For example, when doing 'df[col].method(value, inplace=True)', try using 'df.method({col: value}, inplace=True)' or df[col] = df[col].method(value) instead, to perform the operation inplace on the original object.\n",
      "\n",
      "\n",
      "  df['cleaned_text'].fillna('', inplace=True)\n"
     ]
    }
   ],
   "source": [
    "df['cleaned_text'].fillna('', inplace=True)"
   ]
  },
  {
   "cell_type": "code",
   "execution_count": 3,
   "metadata": {},
   "outputs": [
    {
     "name": "stdout",
     "output_type": "stream",
     "text": [
      "TF-IDF transformation completed. Shape: (44898, 5000)\n"
     ]
    }
   ],
   "source": [
    "from sklearn.feature_extraction.text import TfidfVectorizer\n",
    "import joblib\n",
    "\n",
    "# Initialize TF-IDF vectorizer\n",
    "tfidf_vectorizer = TfidfVectorizer(\n",
    "    max_features=5000,  # Limit to 5000 features to reduce dimensionality\n",
    "    stop_words='english',  # Remove common words like \"the\", \"is\"\n",
    "    ngram_range=(1, 2)  # Unigrams and bigrams for more context\n",
    ")\n",
    "\n",
    "# Apply TF-IDF transformation\n",
    "X_tfidf = tfidf_vectorizer.fit_transform(df['cleaned_text'])\n",
    "\n",
    "# Save the vectorizer for future use\n",
    "joblib.dump(tfidf_vectorizer, '../models/tfidf_vectorizer.pkl')\n",
    "\n",
    "# Convert TF-IDF matrix to array and store\n",
    "import numpy as np\n",
    "np.save('../data/processed/X_tfidf.npy', X_tfidf.toarray())\n",
    "\n",
    "print(\"TF-IDF transformation completed. Shape:\", X_tfidf.shape)\n"
   ]
  },
  {
   "cell_type": "code",
   "execution_count": 4,
   "metadata": {},
   "outputs": [
    {
     "name": "stdout",
     "output_type": "stream",
     "text": [
      "TF-IDF features and labels saved successfully.\n"
     ]
    }
   ],
   "source": [
    "# Save the processed data\n",
    "np.save('../data/processed/X_tfidf.npy', X_tfidf.toarray())\n",
    "df['label'].to_csv('../data/processed/labels.csv', index=False)\n",
    "\n",
    "print(\"TF-IDF features and labels saved successfully.\")\n"
   ]
  },
  {
   "cell_type": "code",
   "execution_count": 5,
   "metadata": {},
   "outputs": [
    {
     "name": "stdout",
     "output_type": "stream",
     "text": [
      "Loaded feature shape: (44898, 5000)\n"
     ]
    }
   ],
   "source": [
    "# Load processed features to verify\n",
    "X_loaded = np.load('../data/processed/X_tfidf.npy')\n",
    "print(\"Loaded feature shape:\", X_loaded.shape)\n"
   ]
  }
 ],
 "metadata": {
  "kernelspec": {
   "display_name": "fake-news-detection",
   "language": "python",
   "name": "python3"
  },
  "language_info": {
   "codemirror_mode": {
    "name": "ipython",
    "version": 3
   },
   "file_extension": ".py",
   "mimetype": "text/x-python",
   "name": "python",
   "nbconvert_exporter": "python",
   "pygments_lexer": "ipython3",
   "version": "3.12.8"
  }
 },
 "nbformat": 4,
 "nbformat_minor": 2
}
